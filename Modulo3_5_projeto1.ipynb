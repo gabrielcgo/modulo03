{
  "cells": [
    {
      "cell_type": "markdown",
      "metadata": {
        "id": "view-in-github",
        "colab_type": "text"
      },
      "source": [
        "<a href=\"https://colab.research.google.com/github/gabrielcgo/modulo03_BLUE/blob/main/Modulo3_5_projeto1.ipynb\" target=\"_parent\"><img src=\"https://colab.research.google.com/assets/colab-badge.svg\" alt=\"Open In Colab\"/></a>"
      ]
    },
    {
      "cell_type": "markdown",
      "source": [
        "# **Projeto 01** / *Módulo Extra*\n",
        "Essa análise é uma atividade proposta pela Blue EdTech com o objetivo de aplicação prática dos conteúdos ensinados para obtenção parcial da nota (20%) do módulo Extra.\n",
        "\n",
        "A atividade é composta por 5 questões práticas que serão resolvidas ao decorrer desta apresentação.\n",
        "\n",
        "Os principais pontos que serão avaliados:\n",
        "\n",
        "*   Levantamento de hipóteses\n",
        "*   Manipulação de imagens\n",
        "*   Criar um modelo de classificação"
      ],
      "metadata": {
        "id": "Ss2zAqBPvs0w"
      }
    },
    {
      "cell_type": "markdown",
      "source": [
        "# Bibliotecas\n",
        "*   Para ler o conjunto de imagens, ultilizamos o Os\n",
        "*   Para trabalhar com Datasets, ultilizamos o Pandas\n",
        "*   O Numpy para trabalhar com arrays\n",
        "*   O Matplotlib para visualizar gráficos\n",
        "\n",
        "*   PIL para processar as imagens\n",
        "*   Sklearn para estatística e Machine Learning\n",
        "*   Keras foi utilizado para Deep Learning\n",
        "*   Tensorflow como suporte para Machine Learning e Deep learning"
      ],
      "metadata": {
        "id": "aSdeyvyvw5CR"
      }
    },
    {
      "cell_type": "code",
      "execution_count": 1,
      "metadata": {
        "id": "6WAlqvvw15jU"
      },
      "outputs": [],
      "source": [
        "import os\n",
        "import pandas as pd\n",
        "import numpy as np\n",
        "import seaborn as sns\n",
        "\n",
        "import matplotlib.pyplot as plt\n",
        "from PIL import Image\n",
        "\n",
        "from sklearn.metrics import accuracy_score\n",
        "from sklearn import tree\n",
        "from sklearn.tree import DecisionTreeClassifier\n",
        "from sklearn.model_selection import train_test_split, GridSearchCV\n",
        "from sklearn.decomposition import PCA\n",
        "from sklearn.naive_bayes import GaussianNB, BernoulliNB, ComplementNB\n",
        "from sklearn.preprocessing import MinMaxScaler, StandardScaler\n",
        "from sklearn.metrics import confusion_matrix\n",
        "\n",
        "import tensorflow as tf\n",
        "from tensorflow import keras\n",
        "from keras.preprocessing import image_dataset\n",
        "from tensorflow.keras.models import Model\n",
        "from tensorflow.keras.applications import vgg19"
      ]
    },
    {
      "cell_type": "code",
      "source": [
        "from google.colab import drive\n",
        "drive.mount('/content/drive')"
      ],
      "metadata": {
        "colab": {
          "base_uri": "https://localhost:8080/"
        },
        "id": "1pKc7IyYyTg-",
        "outputId": "7418e720-e39b-4a25-e0d7-feb46954734b"
      },
      "execution_count": 2,
      "outputs": [
        {
          "output_type": "stream",
          "name": "stdout",
          "text": [
            "Drive already mounted at /content/drive; to attempt to forcibly remount, call drive.mount(\"/content/drive\", force_remount=True).\n"
          ]
        }
      ]
    },
    {
      "cell_type": "markdown",
      "source": [
        "# Starting Analysis\n",
        "\n",
        "Efetivamente vamos iniciar a análise.\n",
        "\n",
        "**SOBRE ESSE DATASET:**\n",
        "\n",
        "Os dados a seguir são imagens de folhas de videiras de cinco espécies diferentes. \n",
        "\n",
        "O principal produto da videira são as uvas que são consumidas in natura ou processadas. Além disso, as folhas de videira são colhidas uma vez por ano como subproduto. As espécies de folhas de videira são importantes em termos de preço e sabor. Neste estudo, a classificação baseada em DL é conduzida usando imagens de folhas de videira. Para isso, foram tiradas imagens de 500 folhas de videira pertencentes a 5 espécies com um sistema especial de auto-iluminação. As espécies são:\n",
        "\n",
        "*  Ak\n",
        "*  Ala Idris\n",
        "*  Büzgülü\n",
        "*  Dimnit\n",
        "*  Nazli\n",
        "\n",
        "***\n",
        "**CITAÇÕES:**\n",
        "Koklu, M., Unlersen, M. F., Ozkan, I. A., Aslan, M. F., & Sabanci, K. (2022). A CNN-SVM study based on selected deep features for grapevine leaves classification. Measurement, 188, 110425. Doi:https://doi.org/10.1016/j.measurement.2021.110425"
      ],
      "metadata": {
        "id": "Q7GuOWc6yaAv"
      }
    },
    {
      "cell_type": "markdown",
      "source": [
        "# 1) Implemente uma rotina de carregamento das imagens (2 pontos)"
      ],
      "metadata": {
        "id": "qM_T5iigzGBk"
      }
    },
    {
      "cell_type": "code",
      "execution_count": 3,
      "metadata": {
        "id": "JBB_8VFR2QCd"
      },
      "outputs": [],
      "source": [
        "# Importando as imagens do dataset\n",
        "\n",
        "ak = os.listdir('/content/drive/MyDrive/Grapes/Ak')\n",
        "ala_idris = os.listdir('/content/drive/MyDrive/Grapes/Ala_Idris')\n",
        "buzgulu = os.listdir('/content/drive/MyDrive/Grapes/Buzgulu')\n",
        "dimnit = os.listdir('/content/drive/MyDrive/Grapes/Dimnit')\n",
        "nazli = os.listdir('/content/drive/MyDrive/Grapes/Nazli')"
      ]
    },
    {
      "cell_type": "markdown",
      "source": [
        "# 2) Faça a leitura das imagens e responda (2 pontos):"
      ],
      "metadata": {
        "id": "mQ0ywKkkzMTx"
      }
    },
    {
      "cell_type": "markdown",
      "source": [
        "a) Qual a resolução das imagens deste dataset? (0,5 ponto)\n",
        "\n",
        "R= Todas as imagens em todos os conjuntos contém 511 x 511 pixels."
      ],
      "metadata": {
        "id": "aad1MOAdze6s"
      }
    },
    {
      "cell_type": "code",
      "execution_count": 4,
      "metadata": {
        "id": "QuN9P68T5GuI"
      },
      "outputs": [],
      "source": [
        "# Abrindo uma imagem de cada para analisar o tamanho delas\n",
        "\n",
        "ak_size = Image.open(\"/content/drive/MyDrive/Grapes/Ak/Ak (1).png\")\n",
        "ala_idris_size = Image.open(\"/content/drive/MyDrive/Grapes/Ala_Idris/Ala_Idris (1).png\")\n",
        "buzgulu_size = Image.open(\"/content/drive/MyDrive/Grapes/Buzgulu/Buzgulu (1).png\")\n",
        "dimnit_size = Image.open(\"/content/drive/MyDrive/Grapes/Dimnit/Dimnit (1).png\")\n",
        "nazli_size = Image.open(\"/content/drive/MyDrive/Grapes/Nazli/Nazli (1).png\")"
      ]
    },
    {
      "cell_type": "code",
      "source": [
        "print(f'Ak: {ak_size.size} pixels',\n",
        "      f'\\nAla Idris: {ala_idris_size.size} pixels',\n",
        "      f'\\nBuzgulu: {buzgulu_size.size} pixels',\n",
        "      f'\\nDimnit: {dimnit_size.size} pixels',\n",
        "      f'\\nNazli: {nazli_size.size} pixels')"
      ],
      "metadata": {
        "colab": {
          "base_uri": "https://localhost:8080/"
        },
        "id": "2ygqRlBlzYaq",
        "outputId": "9f3a407f-d803-4dfa-9ca6-39ece9f95d60"
      },
      "execution_count": 5,
      "outputs": [
        {
          "output_type": "stream",
          "name": "stdout",
          "text": [
            "Ak: (511, 511) pixels \n",
            "Ala Idris: (511, 511) pixels \n",
            "Buzgulu: (511, 511) pixels \n",
            "Dimnit: (511, 511) pixels \n",
            "Nazli: (511, 511) pixels\n"
          ]
        }
      ]
    },
    {
      "cell_type": "markdown",
      "source": [
        "b) Quantas imagens por classe? (1,0 ponto)\n",
        "\n",
        "R = 100 imagens por classe."
      ],
      "metadata": {
        "id": "NrF52CWnzYIK"
      }
    },
    {
      "cell_type": "code",
      "execution_count": 6,
      "metadata": {
        "colab": {
          "base_uri": "https://localhost:8080/",
          "height": 298
        },
        "id": "lDJvTfN92RfD",
        "outputId": "a6283185-767f-4e6f-bb73-b606343e68b5"
      },
      "outputs": [
        {
          "output_type": "execute_result",
          "data": {
            "text/plain": [
              "<BarContainer object of 5 artists>"
            ]
          },
          "metadata": {},
          "execution_count": 6
        },
        {
          "output_type": "display_data",
          "data": {
            "text/plain": [
              "<Figure size 432x288 with 1 Axes>"
            ],
            "image/png": "[encoded data removed]"
          },
          "metadata": {
            "needs_background": "light"
          }
        }
      ],
      "source": [
        "count_type = [len(ak),len(ala_idris),len(buzgulu),len(dimnit),len(nazli)]\n",
        "title = ['Ak','Ala Idris','Buzgulu','Dimnit','Nazli']\n",
        "\n",
        "plt.title('Image Quantity')\n",
        "plt.barh(title, count_type)"
      ]
    },
    {
      "cell_type": "code",
      "source": [
        "print(count_type)"
      ],
      "metadata": {
        "colab": {
          "base_uri": "https://localhost:8080/"
        },
        "id": "txPXpSuOzzCp",
        "outputId": "8d09d46b-c6ca-4272-9518-94d71285a1d5"
      },
      "execution_count": 7,
      "outputs": [
        {
          "output_type": "stream",
          "name": "stdout",
          "text": [
            "[100, 100, 100, 100, 100]\n"
          ]
        }
      ]
    },
    {
      "cell_type": "markdown",
      "source": [
        "c) Este dataset já está estruturado em conjuntos treinamento/teste ou deve-se adotar alguma metodologia na modelagem? (0,5 ponto)\n",
        "\n",
        "R = Não está separado, será necessário separar o dataset na hora de construir o modelo de predição."
      ],
      "metadata": {
        "id": "4Oc1BDiez_9q"
      }
    },
    {
      "cell_type": "markdown",
      "source": [
        "# 3) Faça a preparação do dataset para extração de características com a CNN VGG-19. Qual o formato do input da rede? Verifique se há necessidade de transformação da imagem e, se sim, implemente esta transformação (1 ponto)"
      ],
      "metadata": {
        "id": "ZlVBuglG17R7"
      }
    },
    {
      "cell_type": "code",
      "execution_count": 8,
      "metadata": {
        "id": "3DppFqBCLirK"
      },
      "outputs": [],
      "source": [
        "# Defini x e y como uma lista e foi necessário redimensionar para 224 x 224\n",
        "\n",
        "x = []\n",
        "y = []\n",
        "img_w, img_h = 224, 224"
      ]
    },
    {
      "cell_type": "code",
      "execution_count": 9,
      "metadata": {
        "id": "Z69pOYHJMJzB"
      },
      "outputs": [],
      "source": [
        "for i in ak:\n",
        "  image = Image.open(f'/content/drive/MyDrive/Grapes/Ak/{i}').convert('RGB')\n",
        "  image = image.resize((img_w, img_h))\n",
        "  x.append(np.asarray(image))\n",
        "  y.append(0)"
      ]
    },
    {
      "cell_type": "code",
      "source": [
        "for i in ala_idris:\n",
        "  image = Image.open(f'/content/drive/MyDrive/Grapes/Ala_Idris/{i}').convert('RGB')\n",
        "  image = image.resize((img_w, img_h))\n",
        "  x.append(np.asarray(image))\n",
        "  y.append(1)"
      ],
      "metadata": {
        "id": "-SyNF96T2tDR"
      },
      "execution_count": 10,
      "outputs": []
    },
    {
      "cell_type": "code",
      "source": [
        "for i in buzgulu:\n",
        "  image = Image.open(f'/content/drive/MyDrive/Grapes/Buzgulu/{i}').convert('RGB')\n",
        "  image = image.resize((img_w, img_h))\n",
        "  x.append(np.asarray(image))\n",
        "  y.append(2)"
      ],
      "metadata": {
        "id": "CvBwf6eF2utI"
      },
      "execution_count": 11,
      "outputs": []
    },
    {
      "cell_type": "code",
      "source": [
        "for i in dimnit:\n",
        "  image = Image.open(f'/content/drive/MyDrive/Grapes/Dimnit/{i}').convert('RGB')\n",
        "  image = image.resize((img_w, img_h))\n",
        "  x.append(np.asarray(image))\n",
        "  y.append(3)"
      ],
      "metadata": {
        "id": "CS-5gqvE2wOP"
      },
      "execution_count": 12,
      "outputs": []
    },
    {
      "cell_type": "code",
      "source": [
        "for i in nazli:\n",
        "  image = Image.open(f'/content/drive/MyDrive/Grapes/Nazli/{i}').convert('RGB')\n",
        "  image = image.resize((img_w, img_h))\n",
        "  x.append(np.asarray(image))\n",
        "  y.append(4)"
      ],
      "metadata": {
        "id": "EEdbD6Zr2xme"
      },
      "execution_count": 13,
      "outputs": []
    },
    {
      "cell_type": "code",
      "execution_count": 14,
      "metadata": {
        "id": "SAmATpiSOsxh"
      },
      "outputs": [],
      "source": [
        "x = np.asarray(x)\n",
        "x = x.astype('float32')\n",
        "x /= 255\n",
        "y = np.asarray(y)"
      ]
    },
    {
      "cell_type": "markdown",
      "source": [
        "# 4) Implemente o processo de extração de características utilizando a VGG-19 e a transformação deste espaço de característica de forma adequada (2 pontos)"
      ],
      "metadata": {
        "id": "dXPlTaFs37dB"
      }
    },
    {
      "cell_type": "code",
      "execution_count": 28,
      "metadata": {
        "id": "vQavtHuEPlzc"
      },
      "outputs": [],
      "source": [
        "model = tf.keras.applications.VGG19(include_top = True, weights = 'imagenet', input_shape = (224, 224, 3), classes = 1000)\n",
        "model = Model(inputs = model.input, outputs = model.get_layer(index=-2).output)\n",
        "\n",
        "prediction = np.array(model.predict(x))\n",
        "x_pred = np.reshape(prediction, (prediction.shape[0], prediction.shape[1]))"
      ]
    },
    {
      "cell_type": "markdown",
      "source": [
        "# 5) Utilize o espaço de características:\n",
        "\n",
        "a) Se o conjunto não estiver particionado, escolha uma técnica e justifique sua decisão. Implemente esta rotina (1 ponto)"
      ],
      "metadata": {
        "id": "9pODMU3_61AK"
      }
    },
    {
      "cell_type": "code",
      "execution_count": 16,
      "metadata": {
        "id": "8iklTYsfQlRj"
      },
      "outputs": [],
      "source": [
        "x_train, x_test, y_train, y_test = train_test_split(x, y, stratify = y, test_size = 0.3, random_state = 100)"
      ]
    },
    {
      "cell_type": "code",
      "source": [
        "x_train.shape, x_test.shape"
      ],
      "metadata": {
        "colab": {
          "base_uri": "https://localhost:8080/"
        },
        "id": "2qIbvL5NAYFE",
        "outputId": "2d1b067b-173b-43dc-a346-3608fcede34e"
      },
      "execution_count": 17,
      "outputs": [
        {
          "output_type": "execute_result",
          "data": {
            "text/plain": [
              "((350, 224, 224, 3), (150, 224, 224, 3))"
            ]
          },
          "metadata": {},
          "execution_count": 17
        }
      ]
    },
    {
      "cell_type": "code",
      "source": [
        "x_train = x_train.reshape(350,224*224*3)\n",
        "x_test = x_test.reshape(150,224*224*3)"
      ],
      "metadata": {
        "id": "Bjn_9dlIS6u5"
      },
      "execution_count": 38,
      "outputs": []
    },
    {
      "cell_type": "markdown",
      "source": [
        "b) Utilize os dados com os classificadores Árvores de Decisão e Naive-Bayes. Obtenha a acurácia dos modelos e avalie os resultados (2 pontos)."
      ],
      "metadata": {
        "id": "oC74pAXj7Ewh"
      }
    },
    {
      "cell_type": "code",
      "execution_count": 61,
      "metadata": {
        "id": "iGraQj0hQ2nW"
      },
      "outputs": [],
      "source": [
        "grid_dt = {\n",
        "    'criterion' :['gini', 'entropy'],\n",
        "    'random_state' : [None, 10, 20, 30, 40],\n",
        "    'max_features':['auto', 'sqrt', 'log2',None],\n",
        "    'max_depth': [i for i in range(1,10)],\n",
        "}\n",
        "dt = GridSearchCV(estimator = DecisionTreeClassifier(), param_grid = grid_dt, cv = 10)"
      ]
    },
    {
      "cell_type": "code",
      "execution_count": 62,
      "metadata": {
        "id": "pt2GszdpQ7H4"
      },
      "outputs": [],
      "source": [
        "estimators = [GaussianNB(), BernoulliNB(), ComplementNB()]\n",
        "\n",
        "def gridnb(estimator, x_train, y_train, x_test, y_test):\n",
        "  \n",
        "  results = []\n",
        "  result_pred = []\n",
        "  grid_nb = {}\n",
        "\n",
        "  for i in estimators:\n",
        "    nb = GridSearchCV(estimator=i, param_grid=grid_nb, cv = 10)\n",
        "    nb.fit(x_train, y_train)\n",
        "    result = nb.predict(x_test)\n",
        "    result_pred.append(result)\n",
        "    accnb = accuracy_score(result, y_test)\n",
        "    results.append(accnb)\n",
        "\n",
        "  max_acc = max(results)\n",
        "  max_acc_model = str(estimators[results.index(max_acc)]).strip('()')\n",
        "  results_best_model = result_pred[results.index(max_acc)]\n",
        "\n",
        "  return max_acc, max_acc_model, results_best_model"
      ]
    },
    {
      "cell_type": "code",
      "execution_count": 63,
      "metadata": {
        "id": "XbsaWJgsQ99q"
      },
      "outputs": [],
      "source": [
        "pca = PCA(n_components = .9, svd_solver = 'full')"
      ]
    },
    {
      "cell_type": "code",
      "source": [
        "dt.fit(x_train, y_train)"
      ],
      "metadata": {
        "id": "rmbSmucTZBRq"
      },
      "execution_count": null,
      "outputs": []
    },
    {
      "cell_type": "code",
      "execution_count": null,
      "metadata": {
        "id": "nr9Qt_9aRCEo"
      },
      "outputs": [],
      "source": [
        "result = dt.predict(x_pred)\n",
        "\n",
        "decision_tree_accuracy = accuracy_score(result, y_test)\n",
        "print(f\"Accuracy Decision Tree: {decision_tree_accuracy:0.2f}\")"
      ]
    }
  ],
  "metadata": {
    "colab": {
      "name": "Modulo3.5_projeto1.ipynb",
      "provenance": [],
      "mount_file_id": "1ThvSWXqVK_IC2YvvqcmYN-7dPNUJIIsv",
      "authorship_tag": "ABX9TyMKdk0NMZaB5yG/ArEWlg+z",
      "include_colab_link": true
    },
    "kernelspec": {
      "display_name": "Python 3",
      "name": "python3"
    },
    "language_info": {
      "name": "python"
    }
  },
  "nbformat": 4,
  "nbformat_minor": 0
}